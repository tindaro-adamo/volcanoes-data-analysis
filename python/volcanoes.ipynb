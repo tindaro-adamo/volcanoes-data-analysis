{
 "cells": [
  {
   "cell_type": "code",
   "execution_count": 1,
   "id": "amber-smith",
   "metadata": {},
   "outputs": [],
   "source": [
    "import pandas as pd\n",
    "import numpy as np\n",
    "import re"
   ]
  },
  {
   "cell_type": "code",
   "execution_count": 2,
   "id": "operating-clause",
   "metadata": {},
   "outputs": [
    {
     "data": {
      "text/html": [
       "<div>\n",
       "<style scoped>\n",
       "    .dataframe tbody tr th:only-of-type {\n",
       "        vertical-align: middle;\n",
       "    }\n",
       "\n",
       "    .dataframe tbody tr th {\n",
       "        vertical-align: top;\n",
       "    }\n",
       "\n",
       "    .dataframe thead th {\n",
       "        text-align: right;\n",
       "    }\n",
       "</style>\n",
       "<table border=\"1\" class=\"dataframe\">\n",
       "  <thead>\n",
       "    <tr style=\"text-align: right;\">\n",
       "      <th></th>\n",
       "      <th>Volcano Number</th>\n",
       "      <th>Volcano Name</th>\n",
       "      <th>Country</th>\n",
       "      <th>Primary Volcano Type</th>\n",
       "      <th>Activity Evidence</th>\n",
       "      <th>Last Known Eruption</th>\n",
       "      <th>Region</th>\n",
       "      <th>Subregion</th>\n",
       "      <th>Latitude</th>\n",
       "      <th>Longitude</th>\n",
       "      <th>Elevation (m)</th>\n",
       "      <th>Dominant Rock Type</th>\n",
       "      <th>Tectonic Setting</th>\n",
       "    </tr>\n",
       "  </thead>\n",
       "  <tbody>\n",
       "    <tr>\n",
       "      <th>0</th>\n",
       "      <td>210010</td>\n",
       "      <td>West Eifel Volcanic Field</td>\n",
       "      <td>Germany</td>\n",
       "      <td>Maar(s)</td>\n",
       "      <td>Eruption Dated</td>\n",
       "      <td>8300 BCE</td>\n",
       "      <td>Mediterranean and Western Asia</td>\n",
       "      <td>Western Europe</td>\n",
       "      <td>50,17</td>\n",
       "      <td>6,85</td>\n",
       "      <td>600</td>\n",
       "      <td>Foidite</td>\n",
       "      <td>Rift zone / Continental crust (&gt;25 km)</td>\n",
       "    </tr>\n",
       "    <tr>\n",
       "      <th>1</th>\n",
       "      <td>210020</td>\n",
       "      <td>Chaine des Puys</td>\n",
       "      <td>France</td>\n",
       "      <td>Lava dome(s)</td>\n",
       "      <td>Eruption Dated</td>\n",
       "      <td>4040 BCE</td>\n",
       "      <td>Mediterranean and Western Asia</td>\n",
       "      <td>Western Europe</td>\n",
       "      <td>45,775</td>\n",
       "      <td>2,97</td>\n",
       "      <td>1464</td>\n",
       "      <td>Basalt / Picro-Basalt</td>\n",
       "      <td>Rift zone / Continental crust (&gt;25 km)</td>\n",
       "    </tr>\n",
       "    <tr>\n",
       "      <th>2</th>\n",
       "      <td>210030</td>\n",
       "      <td>Olot Volcanic Field</td>\n",
       "      <td>Spain</td>\n",
       "      <td>Pyroclastic cone(s)</td>\n",
       "      <td>Evidence Credible</td>\n",
       "      <td>Unknown</td>\n",
       "      <td>Mediterranean and Western Asia</td>\n",
       "      <td>Western Europe</td>\n",
       "      <td>42,17</td>\n",
       "      <td>2,53</td>\n",
       "      <td>893</td>\n",
       "      <td>Trachybasalt / Tephrite Basanite</td>\n",
       "      <td>Intraplate / Continental crust (&gt;25 km)</td>\n",
       "    </tr>\n",
       "    <tr>\n",
       "      <th>3</th>\n",
       "      <td>210040</td>\n",
       "      <td>Calatrava Volcanic Field</td>\n",
       "      <td>Spain</td>\n",
       "      <td>Pyroclastic cone(s)</td>\n",
       "      <td>Eruption Dated</td>\n",
       "      <td>3600 BCE</td>\n",
       "      <td>Mediterranean and Western Asia</td>\n",
       "      <td>Western Europe</td>\n",
       "      <td>38,87</td>\n",
       "      <td>-4,02</td>\n",
       "      <td>1117</td>\n",
       "      <td>Basalt / Picro-Basalt</td>\n",
       "      <td>Intraplate / Continental crust (&gt;25 km)</td>\n",
       "    </tr>\n",
       "    <tr>\n",
       "      <th>4</th>\n",
       "      <td>211003</td>\n",
       "      <td>Vulsini</td>\n",
       "      <td>Italy</td>\n",
       "      <td>Caldera</td>\n",
       "      <td>Eruption Observed</td>\n",
       "      <td>104 BCE</td>\n",
       "      <td>Mediterranean and Western Asia</td>\n",
       "      <td>Italy</td>\n",
       "      <td>42,6</td>\n",
       "      <td>11,93</td>\n",
       "      <td>800</td>\n",
       "      <td>Trachyte / Trachydacite</td>\n",
       "      <td>Subduction zone / Continental crust (&gt;25 km)</td>\n",
       "    </tr>\n",
       "  </tbody>\n",
       "</table>\n",
       "</div>"
      ],
      "text/plain": [
       "   Volcano Number               Volcano Name  Country Primary Volcano Type  \\\n",
       "0          210010  West Eifel Volcanic Field  Germany              Maar(s)   \n",
       "1          210020            Chaine des Puys   France         Lava dome(s)   \n",
       "2          210030        Olot Volcanic Field    Spain  Pyroclastic cone(s)   \n",
       "3          210040   Calatrava Volcanic Field    Spain  Pyroclastic cone(s)   \n",
       "4          211003                    Vulsini    Italy              Caldera   \n",
       "\n",
       "   Activity Evidence Last Known Eruption                          Region  \\\n",
       "0     Eruption Dated            8300 BCE  Mediterranean and Western Asia   \n",
       "1     Eruption Dated            4040 BCE  Mediterranean and Western Asia   \n",
       "2  Evidence Credible             Unknown  Mediterranean and Western Asia   \n",
       "3     Eruption Dated            3600 BCE  Mediterranean and Western Asia   \n",
       "4  Eruption Observed             104 BCE  Mediterranean and Western Asia   \n",
       "\n",
       "        Subregion Latitude Longitude  Elevation (m)  \\\n",
       "0  Western Europe    50,17      6,85            600   \n",
       "1  Western Europe   45,775      2,97           1464   \n",
       "2  Western Europe    42,17      2,53            893   \n",
       "3  Western Europe    38,87     -4,02           1117   \n",
       "4           Italy     42,6     11,93            800   \n",
       "\n",
       "                 Dominant Rock Type  \\\n",
       "0                           Foidite   \n",
       "1             Basalt / Picro-Basalt   \n",
       "2  Trachybasalt / Tephrite Basanite   \n",
       "3             Basalt / Picro-Basalt   \n",
       "4           Trachyte / Trachydacite   \n",
       "\n",
       "                               Tectonic Setting  \n",
       "0        Rift zone / Continental crust (>25 km)  \n",
       "1        Rift zone / Continental crust (>25 km)  \n",
       "2       Intraplate / Continental crust (>25 km)  \n",
       "3       Intraplate / Continental crust (>25 km)  \n",
       "4  Subduction zone / Continental crust (>25 km)  "
      ]
     },
     "execution_count": 2,
     "metadata": {},
     "output_type": "execute_result"
    }
   ],
   "source": [
    "df = pd.read_csv('../csv/volcanoes_2021.csv', delimiter=';', encoding = \"ISO-8859-1\")\n",
    "df.head()"
   ]
  },
  {
   "cell_type": "code",
   "execution_count": 3,
   "id": "senior-training",
   "metadata": {},
   "outputs": [
    {
     "data": {
      "text/plain": [
       "1356"
      ]
     },
     "execution_count": 3,
     "metadata": {},
     "output_type": "execute_result"
    }
   ],
   "source": [
    "df.shape[0]"
   ]
  },
  {
   "cell_type": "markdown",
   "id": "authentic-retail",
   "metadata": {},
   "source": [
    "### Search for missing values \n"
   ]
  },
  {
   "cell_type": "markdown",
   "id": "passive-express",
   "metadata": {},
   "source": [
    "Let's check if there are any null values."
   ]
  },
  {
   "cell_type": "code",
   "execution_count": 4,
   "id": "preceding-cincinnati",
   "metadata": {},
   "outputs": [
    {
     "data": {
      "text/plain": [
       "Volcano Number           0\n",
       "Volcano Name             0\n",
       "Country                  0\n",
       "Primary Volcano Type     0\n",
       "Activity Evidence        0\n",
       "Last Known Eruption      0\n",
       "Region                   0\n",
       "Subregion                0\n",
       "Latitude                 0\n",
       "Longitude                0\n",
       "Elevation (m)            0\n",
       "Dominant Rock Type      21\n",
       "Tectonic Setting         5\n",
       "dtype: int64"
      ]
     },
     "execution_count": 4,
     "metadata": {},
     "output_type": "execute_result"
    }
   ],
   "source": [
    "df.isnull().sum()"
   ]
  },
  {
   "cell_type": "markdown",
   "id": "overhead-boards",
   "metadata": {},
   "source": [
    "Only ```Dominant Rock Type``` and ```Tectonic Setting``` have null values, but they are not too many. <br><br>\n",
    "On the other hand, it looks like some columns have the string ```Unknown``` as value, that's another way of indicating the absence of value.<br>\n",
    "<br>\n",
    "Let's check how many : "
   ]
  },
  {
   "cell_type": "code",
   "execution_count": 5,
   "id": "manual-influence",
   "metadata": {
    "scrolled": true
   },
   "outputs": [
    {
     "name": "stdout",
     "output_type": "stream",
     "text": [
      "Volcano Number = 0\n",
      "Volcano Name = 0\n",
      "Country = 0\n",
      "Primary Volcano Type = 0\n",
      "Activity Evidence = 0\n",
      "Last Known Eruption = 490\n",
      "Region = 0\n",
      "Subregion = 0\n",
      "Latitude = 0\n",
      "Longitude = 0\n",
      "Elevation (m) = 0\n",
      "Dominant Rock Type = 0\n",
      "Tectonic Setting = 1\n"
     ]
    }
   ],
   "source": [
    "for col in df.columns:\n",
    "    unknowns = df[df[col]=='Unknown'].shape[0]\n",
    "    print(f\"{col} = {unknowns}\" )"
   ]
  },
  {
   "cell_type": "markdown",
   "id": "announced-danish",
   "metadata": {},
   "source": [
    "```'Last Known Eruption'``` has **490** ```'Unknown'```, which is about **36%** of observations in the dataframe. <br>\n",
    "Since we have another dataset specific for eruptions, which contains more information, we can discard this column. "
   ]
  },
  {
   "cell_type": "code",
   "execution_count": 6,
   "id": "individual-investor",
   "metadata": {},
   "outputs": [],
   "source": [
    "df = df.drop(columns=['Last Known Eruption'])"
   ]
  },
  {
   "cell_type": "markdown",
   "id": "dress-start",
   "metadata": {},
   "source": [
    "### Latitude and Longitude exploration"
   ]
  },
  {
   "cell_type": "code",
   "execution_count": 7,
   "id": "european-solid",
   "metadata": {},
   "outputs": [
    {
     "data": {
      "text/plain": [
       "0     50,17\n",
       "1    45,775\n",
       "2     42,17\n",
       "3     38,87\n",
       "4      42,6\n",
       "Name: Latitude, dtype: object"
      ]
     },
     "execution_count": 7,
     "metadata": {},
     "output_type": "execute_result"
    }
   ],
   "source": [
    "df['Latitude'].head()"
   ]
  },
  {
   "cell_type": "markdown",
   "id": "excellent-young",
   "metadata": {},
   "source": [
    "Latitude and Longitude are of type **object** and have a ',' as decimal delimiter.<br>\n",
    "We will transform both columns to numeric.\n"
   ]
  },
  {
   "cell_type": "code",
   "execution_count": 8,
   "id": "extreme-stadium",
   "metadata": {},
   "outputs": [],
   "source": [
    "df['Latitude'] = df['Latitude'].str.replace(',','.')\n",
    "df['Latitude'] = pd.to_numeric(df['Latitude'],errors = 'coerce')"
   ]
  },
  {
   "cell_type": "code",
   "execution_count": 9,
   "id": "united-smell",
   "metadata": {},
   "outputs": [],
   "source": [
    "df['Longitude'] = df['Longitude'].str.replace(',','.')\n",
    "df['Longitude'] = pd.to_numeric(df['Longitude'],errors = 'coerce')"
   ]
  },
  {
   "cell_type": "markdown",
   "id": "elect-brain",
   "metadata": {},
   "source": [
    "### 'Primary Volcano Type' exploration"
   ]
  },
  {
   "cell_type": "code",
   "execution_count": 10,
   "id": "hybrid-motivation",
   "metadata": {},
   "outputs": [
    {
     "data": {
      "text/plain": [
       "Stratovolcano          554\n",
       "Stratovolcano(es)      116\n",
       "Submarine              115\n",
       "Shield                 102\n",
       "Pyroclastic cone(s)     87\n",
       "Volcanic field          80\n",
       "Caldera                 76\n",
       "Complex                 52\n",
       "Lava dome(s)            29\n",
       "Shield(s)               23\n",
       "Pyroclastic cone        16\n",
       "Fissure vent(s)         15\n",
       "Compound                12\n",
       "Maar(s)                 10\n",
       "Caldera(s)              10\n",
       "Tuff cone(s)             9\n",
       "Pyroclastic shield       8\n",
       "Lava dome                8\n",
       "Crater rows              6\n",
       "Subglacial               5\n",
       "Maar                     5\n",
       "Fissure vent             3\n",
       "Tuff cone                3\n",
       "Stratovolcano?           2\n",
       "Lava cone                2\n",
       "Submarine(es)            2\n",
       "Explosion crater(s)      1\n",
       "Complex(es)              1\n",
       "Cone(s)                  1\n",
       "Tuff ring(s)             1\n",
       "Lava cone(s)             1\n",
       "Lava cone(es)            1\n",
       "Name: Primary Volcano Type, dtype: int64"
      ]
     },
     "execution_count": 10,
     "metadata": {},
     "output_type": "execute_result"
    }
   ],
   "source": [
    "df['Primary Volcano Type'].value_counts()"
   ]
  },
  {
   "cell_type": "markdown",
   "id": "offensive-binding",
   "metadata": {},
   "source": [
    "We have ```Stratovolcano``` and ```Stratovolcano(es)```, both with significant numbers.<br>\n",
    "We also have ```Stratovolcano?```. <br><br>\n",
    "Let's change all of them to ```Stratovolcano``` \n"
   ]
  },
  {
   "cell_type": "code",
   "execution_count": 11,
   "id": "intimate-round",
   "metadata": {},
   "outputs": [
    {
     "data": {
      "text/plain": [
       "Stratovolcano        554\n",
       "Stratovolcano(es)    116\n",
       "Stratovolcano?         2\n",
       "Name: Primary Volcano Type, dtype: int64"
      ]
     },
     "execution_count": 11,
     "metadata": {},
     "output_type": "execute_result"
    }
   ],
   "source": [
    "df['Primary Volcano Type'].loc[lambda x: x.str.startswith('Stratovolcano', na=False)].value_counts()"
   ]
  },
  {
   "cell_type": "code",
   "execution_count": 12,
   "id": "educational-crowd",
   "metadata": {},
   "outputs": [],
   "source": [
    "df['Primary Volcano Type'] = df['Primary Volcano Type'].replace(['Stratovolcano(es)','Stratovolcano?'], 'Stratovolcano')"
   ]
  },
  {
   "cell_type": "code",
   "execution_count": 13,
   "id": "english-snapshot",
   "metadata": {},
   "outputs": [
    {
     "data": {
      "text/plain": [
       "Stratovolcano    672\n",
       "Name: Primary Volcano Type, dtype: int64"
      ]
     },
     "execution_count": 13,
     "metadata": {},
     "output_type": "execute_result"
    }
   ],
   "source": [
    "df['Primary Volcano Type'].loc[lambda x: x.str.startswith('Stratovolcano', na=False)].value_counts()"
   ]
  },
  {
   "cell_type": "markdown",
   "id": "primary-symbol",
   "metadata": {},
   "source": [
    "### 'Dominant Rock type' exploration"
   ]
  },
  {
   "cell_type": "code",
   "execution_count": 14,
   "id": "incorporate-circuit",
   "metadata": {},
   "outputs": [
    {
     "data": {
      "text/plain": [
       "Andesite / Basaltic Andesite                559\n",
       "Basalt / Picro-Basalt                       427\n",
       "Dacite                                       89\n",
       "Trachybasalt / Tephrite Basanite             65\n",
       "Rhyolite                                     61\n",
       "No Data (checked)                            45\n",
       "Trachyte / Trachydacite                      36\n",
       "Trachyandesite / Basaltic Trachyandesite     28\n",
       "Foidite                                      14\n",
       "Phonolite                                     8\n",
       "Phono-tephrite /  Tephri-phonolite            3\n",
       "Name: Dominant Rock Type, dtype: int64"
      ]
     },
     "execution_count": 14,
     "metadata": {},
     "output_type": "execute_result"
    }
   ],
   "source": [
    "df['Dominant Rock Type'].value_counts()"
   ]
  },
  {
   "cell_type": "markdown",
   "id": "increased-spoke",
   "metadata": {},
   "source": [
    "We have ```No Data``` values. Let's change them to ```NaN``` for consistency."
   ]
  },
  {
   "cell_type": "code",
   "execution_count": 15,
   "id": "earlier-panel",
   "metadata": {},
   "outputs": [
    {
     "data": {
      "text/plain": [
       "21"
      ]
     },
     "execution_count": 15,
     "metadata": {},
     "output_type": "execute_result"
    }
   ],
   "source": [
    "df['Dominant Rock Type'].isnull().sum()"
   ]
  },
  {
   "cell_type": "code",
   "execution_count": 16,
   "id": "funky-webcam",
   "metadata": {},
   "outputs": [
    {
     "data": {
      "text/plain": [
       "Andesite / Basaltic Andesite                559\n",
       "Basalt / Picro-Basalt                       427\n",
       "Dacite                                       89\n",
       "Trachybasalt / Tephrite Basanite             65\n",
       "Rhyolite                                     61\n",
       "Trachyte / Trachydacite                      36\n",
       "Trachyandesite / Basaltic Trachyandesite     28\n",
       "Foidite                                      14\n",
       "Phonolite                                     8\n",
       "Phono-tephrite /  Tephri-phonolite            3\n",
       "Name: Dominant Rock Type, dtype: int64"
      ]
     },
     "execution_count": 16,
     "metadata": {},
     "output_type": "execute_result"
    }
   ],
   "source": [
    "df['Dominant Rock Type'] = df['Dominant Rock Type'].replace(['No Data (checked)'], np.NaN)\n",
    "df['Dominant Rock Type'].value_counts()"
   ]
  },
  {
   "cell_type": "markdown",
   "id": "geological-surprise",
   "metadata": {},
   "source": [
    "Let's check the new count of NaN. It should now include the count of \"No Data\"\n"
   ]
  },
  {
   "cell_type": "code",
   "execution_count": 17,
   "id": "danish-balance",
   "metadata": {},
   "outputs": [
    {
     "data": {
      "text/plain": [
       "66"
      ]
     },
     "execution_count": 17,
     "metadata": {},
     "output_type": "execute_result"
    }
   ],
   "source": [
    "df['Dominant Rock Type'].isnull().sum()"
   ]
  },
  {
   "cell_type": "code",
   "execution_count": 18,
   "id": "representative-failure",
   "metadata": {},
   "outputs": [],
   "source": [
    "df.to_csv('../csv/cleaned/volcanoes_cleaned.csv', index=False)"
   ]
  },
  {
   "cell_type": "code",
   "execution_count": null,
   "id": "simple-kernel",
   "metadata": {},
   "outputs": [],
   "source": []
  }
 ],
 "metadata": {
  "kernelspec": {
   "display_name": "Python 3",
   "language": "python",
   "name": "python3"
  },
  "language_info": {
   "codemirror_mode": {
    "name": "ipython",
    "version": 3
   },
   "file_extension": ".py",
   "mimetype": "text/x-python",
   "name": "python",
   "nbconvert_exporter": "python",
   "pygments_lexer": "ipython3",
   "version": "3.8.3"
  }
 },
 "nbformat": 4,
 "nbformat_minor": 5
}
