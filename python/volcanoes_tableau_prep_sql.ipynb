{
 "cells": [
  {
   "cell_type": "code",
   "execution_count": 1,
   "id": "impressive-photograph",
   "metadata": {},
   "outputs": [],
   "source": [
    "import pandas as pd\n",
    "import sqlite3"
   ]
  },
  {
   "cell_type": "code",
   "execution_count": 2,
   "id": "technical-utility",
   "metadata": {},
   "outputs": [],
   "source": [
    "volcanoes_df = pd.read_csv('../csv/cleaned/volcanoes_cleaned.csv')\n",
    "volcanoes_df.columns = volcanoes_df.columns.str.replace(' ','_').str.lower()"
   ]
  },
  {
   "cell_type": "code",
   "execution_count": 3,
   "id": "binary-franklin",
   "metadata": {},
   "outputs": [],
   "source": [
    "eruptions_df = pd.read_csv('../csv/cleaned/eruptions_cleaned.csv')\n",
    "eruptions_df.columns = eruptions_df.columns.str.replace(' ','_').str.lower()"
   ]
  },
  {
   "cell_type": "code",
   "execution_count": 4,
   "id": "acute-drilling",
   "metadata": {},
   "outputs": [],
   "source": [
    "# Connect to sqlite db and create tables if they don't exist\n",
    "cnx = sqlite3.connect('volcanoes.db')\n",
    "volcanoes_df.to_sql(name='volcanoes', con=cnx, if_exists='replace')\n",
    "eruptions_df.to_sql(name='eruptions', con=cnx, if_exists='replace')"
   ]
  },
  {
   "cell_type": "code",
   "execution_count": 5,
   "id": "fresh-trust",
   "metadata": {},
   "outputs": [],
   "source": [
    "%%capture\n",
    "%load_ext sql\n",
    "%sql sqlite:///volcanoes.db"
   ]
  },
  {
   "cell_type": "markdown",
   "id": "obvious-graphics",
   "metadata": {},
   "source": [
    "### All years in eruptions, considering both start_year and end_year"
   ]
  },
  {
   "cell_type": "code",
   "execution_count": 9,
   "id": "stunning-russian",
   "metadata": {},
   "outputs": [
    {
     "name": "stdout",
     "output_type": "stream",
     "text": [
      " * sqlite:///volcanoes.db\n",
      "(sqlite3.OperationalError) near \"(\": syntax error\n",
      "[SQL: WITH all_years as ( SELECT \n",
      "    start_year as eruption_year\n",
      "FROM\n",
      "    (SELECT \n",
      "        start_year\n",
      "    FROM\n",
      "        eruptions\n",
      "    WHERE\n",
      "        start_year >= 1900) A\n",
      "UNION (SELECT \n",
      "    end_year\n",
      "FROM\n",
      "    eruptions\n",
      "WHERE\n",
      "    end_year >= 1900) ORDER BY eruption_year\n",
      ")\n",
      "SELECT \n",
      "    eruption_year,\n",
      "    SUM(start_year = ay.eruption_year) AS started_in_year_count,\n",
      "    SUM(end_year = ay.eruption_year) AS ended_in_year_count,\n",
      "    COUNT(*) AS total_eruptions\n",
      "FROM\n",
      "    all_years ay\n",
      "        LEFT JOIN\n",
      "    eruptions e ON ay.eruption_year BETWEEN e.start_year AND e.end_year\n",
      "GROUP BY ay.eruption_year;]\n",
      "(Background on this error at: https://sqlalche.me/e/14/e3q8)\n"
     ]
    }
   ],
   "source": [
    "%%sql \n",
    "WITH all_years as ( SELECT \n",
    "    start_year as eruption_year\n",
    "FROM\n",
    "    (SELECT \n",
    "        start_year\n",
    "    FROM\n",
    "        eruptions\n",
    "    WHERE\n",
    "        start_year >= 1900) A\n",
    "UNION (SELECT \n",
    "    end_year\n",
    "FROM\n",
    "    eruptions\n",
    "WHERE\n",
    "    end_year >= 1900) ORDER BY eruption_year\n",
    ")\n",
    "SELECT \n",
    "    eruption_year,\n",
    "    SUM(start_year = ay.eruption_year) AS started_in_year_count,\n",
    "    SUM(end_year = ay.eruption_year) AS ended_in_year_count,\n",
    "    COUNT(*) AS total_eruptions\n",
    "FROM\n",
    "    all_years ay\n",
    "        LEFT JOIN\n",
    "    eruptions e ON ay.eruption_year BETWEEN e.start_year AND e.end_year\n",
    "GROUP BY ay.eruption_year;\n",
    "\n",
    "# Volcanoes with most eruptions since 1900 \n",
    "SELECT \n",
    "\tSUM(e.end_year-e.start_year+1),\n",
    "    COUNT(e.eruption_number) eruptions_count,\n",
    "    CONCAT(v.volcano_name, ' (', v.country, ')') as volcano_name\n",
    "FROM\n",
    "    eruptions e\n",
    "        JOIN\n",
    "    volcanoes v ON e.volcano_number = v.volcano_number\n",
    "WHERE\n",
    "    e.start_year > 1900\n",
    "GROUP BY v.volcano_name, v.country\n",
    "ORDER BY eruptions_count DESC\n",
    "LIMIT 20;"
   ]
  },
  {
   "cell_type": "markdown",
   "id": "bibliographic-probability",
   "metadata": {},
   "source": [
    "### Volcanoes with most eruptions since 1900 \n"
   ]
  },
  {
   "cell_type": "code",
   "execution_count": 8,
   "id": "vertical-nickel",
   "metadata": {},
   "outputs": [
    {
     "name": "stdout",
     "output_type": "stream",
     "text": [
      " * sqlite:///volcanoes.db\n",
      "Done.\n"
     ]
    },
    {
     "data": {
      "text/html": [
       "<table>\n",
       "    <tr>\n",
       "        <th>eruptions_count</th>\n",
       "        <th>volcano_name</th>\n",
       "    </tr>\n",
       "    <tr>\n",
       "        <td>94</td>\n",
       "        <td>Fournaise, Piton de la (France)</td>\n",
       "    </tr>\n",
       "    <tr>\n",
       "        <td>83</td>\n",
       "        <td>Etna (Italy)</td>\n",
       "    </tr>\n",
       "    <tr>\n",
       "        <td>77</td>\n",
       "        <td>Asosan (Japan)</td>\n",
       "    </tr>\n",
       "    <tr>\n",
       "        <td>73</td>\n",
       "        <td>Klyuchevskoy (Russia)</td>\n",
       "    </tr>\n",
       "    <tr>\n",
       "        <td>57</td>\n",
       "        <td>Ruapehu (New Zealand)</td>\n",
       "    </tr>\n",
       "    <tr>\n",
       "        <td>53</td>\n",
       "        <td>Kilauea (United States)</td>\n",
       "    </tr>\n",
       "    <tr>\n",
       "        <td>52</td>\n",
       "        <td>Asamayama (Japan)</td>\n",
       "    </tr>\n",
       "    <tr>\n",
       "        <td>52</td>\n",
       "        <td>Bezymianny (Russia)</td>\n",
       "    </tr>\n",
       "    <tr>\n",
       "        <td>49</td>\n",
       "        <td>Raung (Indonesia)</td>\n",
       "    </tr>\n",
       "    <tr>\n",
       "        <td>48</td>\n",
       "        <td>Karangetang (Indonesia)</td>\n",
       "    </tr>\n",
       "    <tr>\n",
       "        <td>48</td>\n",
       "        <td>Marapi (Indonesia)</td>\n",
       "    </tr>\n",
       "    <tr>\n",
       "        <td>48</td>\n",
       "        <td>Tongariro (New Zealand)</td>\n",
       "    </tr>\n",
       "    <tr>\n",
       "        <td>48</td>\n",
       "        <td>Villarrica (Chile)</td>\n",
       "    </tr>\n",
       "    <tr>\n",
       "        <td>45</td>\n",
       "        <td>Krakatau (Indonesia)</td>\n",
       "    </tr>\n",
       "    <tr>\n",
       "        <td>43</td>\n",
       "        <td>Ambrym (Vanuatu)</td>\n",
       "    </tr>\n",
       "    <tr>\n",
       "        <td>43</td>\n",
       "        <td>Nyamulagira (DR Congo)</td>\n",
       "    </tr>\n",
       "    <tr>\n",
       "        <td>43</td>\n",
       "        <td>Poas (Costa Rica)</td>\n",
       "    </tr>\n",
       "    <tr>\n",
       "        <td>43</td>\n",
       "        <td>Ulawun (Papua New Guinea)</td>\n",
       "    </tr>\n",
       "    <tr>\n",
       "        <td>42</td>\n",
       "        <td>Telica (Nicaragua)</td>\n",
       "    </tr>\n",
       "    <tr>\n",
       "        <td>39</td>\n",
       "        <td>Izu-Oshima (Japan)</td>\n",
       "    </tr>\n",
       "</table>"
      ],
      "text/plain": [
       "[(94, 'Fournaise, Piton de la (France)'),\n",
       " (83, 'Etna (Italy)'),\n",
       " (77, 'Asosan (Japan)'),\n",
       " (73, 'Klyuchevskoy (Russia)'),\n",
       " (57, 'Ruapehu (New Zealand)'),\n",
       " (53, 'Kilauea (United States)'),\n",
       " (52, 'Asamayama (Japan)'),\n",
       " (52, 'Bezymianny (Russia)'),\n",
       " (49, 'Raung (Indonesia)'),\n",
       " (48, 'Karangetang (Indonesia)'),\n",
       " (48, 'Marapi (Indonesia)'),\n",
       " (48, 'Tongariro (New Zealand)'),\n",
       " (48, 'Villarrica (Chile)'),\n",
       " (45, 'Krakatau (Indonesia)'),\n",
       " (43, 'Ambrym (Vanuatu)'),\n",
       " (43, 'Nyamulagira (DR Congo)'),\n",
       " (43, 'Poas (Costa Rica)'),\n",
       " (43, 'Ulawun (Papua New Guinea)'),\n",
       " (42, 'Telica (Nicaragua)'),\n",
       " (39, 'Izu-Oshima (Japan)')]"
      ]
     },
     "execution_count": 8,
     "metadata": {},
     "output_type": "execute_result"
    }
   ],
   "source": [
    "%%sql \n",
    "SELECT \n",
    "    COUNT(e.eruption_number) eruptions_count,\n",
    "    v.volcano_name || ' (' || v.country || ')' as volcano_name\n",
    "FROM\n",
    "    eruptions e\n",
    "        JOIN\n",
    "    volcanoes v ON e.volcano_number = v.volcano_number\n",
    "WHERE\n",
    "    e.start_year > 1900\n",
    "GROUP BY v.volcano_name, v.country\n",
    "ORDER BY eruptions_count DESC\n",
    "LIMIT 20;"
   ]
  },
  {
   "cell_type": "code",
   "execution_count": null,
   "id": "exposed-milan",
   "metadata": {},
   "outputs": [],
   "source": []
  },
  {
   "cell_type": "code",
   "execution_count": null,
   "id": "wanted-dress",
   "metadata": {},
   "outputs": [],
   "source": []
  }
 ],
 "metadata": {
  "kernelspec": {
   "display_name": "Python 3",
   "language": "python",
   "name": "python3"
  },
  "language_info": {
   "codemirror_mode": {
    "name": "ipython",
    "version": 3
   },
   "file_extension": ".py",
   "mimetype": "text/x-python",
   "name": "python",
   "nbconvert_exporter": "python",
   "pygments_lexer": "ipython3",
   "version": "3.8.3"
  }
 },
 "nbformat": 4,
 "nbformat_minor": 5
}
