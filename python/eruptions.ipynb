{
 "cells": [
  {
   "cell_type": "code",
   "execution_count": 1,
   "id": "trained-socket",
   "metadata": {},
   "outputs": [],
   "source": [
    "import pandas as pd\n",
    "import numpy as np\n",
    "import re\n",
    "\n",
    "import matplotlib.pyplot as plt\n",
    "\n",
    "import seaborn as sns\n",
    "sns.set()"
   ]
  },
  {
   "cell_type": "code",
   "execution_count": 2,
   "id": "excited-crowd",
   "metadata": {},
   "outputs": [
    {
     "data": {
      "text/html": [
       "<div>\n",
       "<style scoped>\n",
       "    .dataframe tbody tr th:only-of-type {\n",
       "        vertical-align: middle;\n",
       "    }\n",
       "\n",
       "    .dataframe tbody tr th {\n",
       "        vertical-align: top;\n",
       "    }\n",
       "\n",
       "    .dataframe thead th {\n",
       "        text-align: right;\n",
       "    }\n",
       "</style>\n",
       "<table border=\"1\" class=\"dataframe\">\n",
       "  <thead>\n",
       "    <tr style=\"text-align: right;\">\n",
       "      <th></th>\n",
       "      <th>Volcano Number</th>\n",
       "      <th>Volcano Name</th>\n",
       "      <th>Eruption Number</th>\n",
       "      <th>Eruption Category</th>\n",
       "      <th>Area of Activity</th>\n",
       "      <th>VEI</th>\n",
       "      <th>VEI Modifier</th>\n",
       "      <th>Start Year Modifier</th>\n",
       "      <th>Start Year</th>\n",
       "      <th>Start Year Uncertainty</th>\n",
       "      <th>...</th>\n",
       "      <th>Evidence Method (dating)</th>\n",
       "      <th>End Year Modifier</th>\n",
       "      <th>End Year</th>\n",
       "      <th>End Year Uncertainty</th>\n",
       "      <th>End Month</th>\n",
       "      <th>End Day Modifier</th>\n",
       "      <th>End Day</th>\n",
       "      <th>End Day Uncertainty</th>\n",
       "      <th>Latitude</th>\n",
       "      <th>Longitude</th>\n",
       "    </tr>\n",
       "  </thead>\n",
       "  <tbody>\n",
       "    <tr>\n",
       "      <th>0</th>\n",
       "      <td>233020</td>\n",
       "      <td>Fournaise, Piton de la</td>\n",
       "      <td>22343</td>\n",
       "      <td>Confirmed Eruption</td>\n",
       "      <td>NaN</td>\n",
       "      <td>NaN</td>\n",
       "      <td>NaN</td>\n",
       "      <td>NaN</td>\n",
       "      <td>2020.0</td>\n",
       "      <td>NaN</td>\n",
       "      <td>...</td>\n",
       "      <td>Historical Observations</td>\n",
       "      <td>NaN</td>\n",
       "      <td>2020.0</td>\n",
       "      <td>NaN</td>\n",
       "      <td>2.0</td>\n",
       "      <td>NaN</td>\n",
       "      <td>16.0</td>\n",
       "      <td>NaN</td>\n",
       "      <td>-21.244</td>\n",
       "      <td>55.708</td>\n",
       "    </tr>\n",
       "    <tr>\n",
       "      <th>1</th>\n",
       "      <td>345020</td>\n",
       "      <td>Rincon de la Vieja</td>\n",
       "      <td>22346</td>\n",
       "      <td>Confirmed Eruption</td>\n",
       "      <td>NaN</td>\n",
       "      <td>NaN</td>\n",
       "      <td>NaN</td>\n",
       "      <td>NaN</td>\n",
       "      <td>2020.0</td>\n",
       "      <td>NaN</td>\n",
       "      <td>...</td>\n",
       "      <td>Historical Observations</td>\n",
       "      <td>NaN</td>\n",
       "      <td>2020.0</td>\n",
       "      <td>NaN</td>\n",
       "      <td>1.0</td>\n",
       "      <td>NaN</td>\n",
       "      <td>31.0</td>\n",
       "      <td>NaN</td>\n",
       "      <td>10.830</td>\n",
       "      <td>-85.324</td>\n",
       "    </tr>\n",
       "    <tr>\n",
       "      <th>2</th>\n",
       "      <td>353010</td>\n",
       "      <td>Fernandina</td>\n",
       "      <td>22347</td>\n",
       "      <td>Confirmed Eruption</td>\n",
       "      <td>NaN</td>\n",
       "      <td>NaN</td>\n",
       "      <td>NaN</td>\n",
       "      <td>NaN</td>\n",
       "      <td>2020.0</td>\n",
       "      <td>NaN</td>\n",
       "      <td>...</td>\n",
       "      <td>Historical Observations</td>\n",
       "      <td>NaN</td>\n",
       "      <td>2020.0</td>\n",
       "      <td>NaN</td>\n",
       "      <td>1.0</td>\n",
       "      <td>NaN</td>\n",
       "      <td>12.0</td>\n",
       "      <td>NaN</td>\n",
       "      <td>-0.370</td>\n",
       "      <td>-91.550</td>\n",
       "    </tr>\n",
       "    <tr>\n",
       "      <th>3</th>\n",
       "      <td>273070</td>\n",
       "      <td>Taal</td>\n",
       "      <td>22344</td>\n",
       "      <td>Confirmed Eruption</td>\n",
       "      <td>NaN</td>\n",
       "      <td>NaN</td>\n",
       "      <td>NaN</td>\n",
       "      <td>NaN</td>\n",
       "      <td>2020.0</td>\n",
       "      <td>NaN</td>\n",
       "      <td>...</td>\n",
       "      <td>Historical Observations</td>\n",
       "      <td>NaN</td>\n",
       "      <td>2020.0</td>\n",
       "      <td>NaN</td>\n",
       "      <td>1.0</td>\n",
       "      <td>NaN</td>\n",
       "      <td>22.0</td>\n",
       "      <td>NaN</td>\n",
       "      <td>14.002</td>\n",
       "      <td>120.993</td>\n",
       "    </tr>\n",
       "    <tr>\n",
       "      <th>4</th>\n",
       "      <td>282050</td>\n",
       "      <td>Kuchinoerabujima</td>\n",
       "      <td>22345</td>\n",
       "      <td>Confirmed Eruption</td>\n",
       "      <td>NaN</td>\n",
       "      <td>NaN</td>\n",
       "      <td>NaN</td>\n",
       "      <td>NaN</td>\n",
       "      <td>2020.0</td>\n",
       "      <td>NaN</td>\n",
       "      <td>...</td>\n",
       "      <td>Historical Observations</td>\n",
       "      <td>&gt;</td>\n",
       "      <td>2020.0</td>\n",
       "      <td>NaN</td>\n",
       "      <td>2.0</td>\n",
       "      <td>NaN</td>\n",
       "      <td>13.0</td>\n",
       "      <td>NaN</td>\n",
       "      <td>30.443</td>\n",
       "      <td>130.217</td>\n",
       "    </tr>\n",
       "  </tbody>\n",
       "</table>\n",
       "<p>5 rows × 24 columns</p>\n",
       "</div>"
      ],
      "text/plain": [
       "   Volcano Number            Volcano Name  Eruption Number  \\\n",
       "0          233020  Fournaise, Piton de la            22343   \n",
       "1          345020      Rincon de la Vieja            22346   \n",
       "2          353010              Fernandina            22347   \n",
       "3          273070                    Taal            22344   \n",
       "4          282050        Kuchinoerabujima            22345   \n",
       "\n",
       "    Eruption Category Area of Activity  VEI VEI Modifier Start Year Modifier  \\\n",
       "0  Confirmed Eruption              NaN  NaN          NaN                 NaN   \n",
       "1  Confirmed Eruption              NaN  NaN          NaN                 NaN   \n",
       "2  Confirmed Eruption              NaN  NaN          NaN                 NaN   \n",
       "3  Confirmed Eruption              NaN  NaN          NaN                 NaN   \n",
       "4  Confirmed Eruption              NaN  NaN          NaN                 NaN   \n",
       "\n",
       "   Start Year  Start Year Uncertainty  ...  Evidence Method (dating)  \\\n",
       "0      2020.0                     NaN  ...   Historical Observations   \n",
       "1      2020.0                     NaN  ...   Historical Observations   \n",
       "2      2020.0                     NaN  ...   Historical Observations   \n",
       "3      2020.0                     NaN  ...   Historical Observations   \n",
       "4      2020.0                     NaN  ...   Historical Observations   \n",
       "\n",
       "  End Year Modifier  End Year  End Year Uncertainty End Month  \\\n",
       "0               NaN    2020.0                   NaN       2.0   \n",
       "1               NaN    2020.0                   NaN       1.0   \n",
       "2               NaN    2020.0                   NaN       1.0   \n",
       "3               NaN    2020.0                   NaN       1.0   \n",
       "4                 >    2020.0                   NaN       2.0   \n",
       "\n",
       "  End Day Modifier  End Day  End Day Uncertainty  Latitude Longitude  \n",
       "0              NaN     16.0                  NaN   -21.244    55.708  \n",
       "1              NaN     31.0                  NaN    10.830   -85.324  \n",
       "2              NaN     12.0                  NaN    -0.370   -91.550  \n",
       "3              NaN     22.0                  NaN    14.002   120.993  \n",
       "4              NaN     13.0                  NaN    30.443   130.217  \n",
       "\n",
       "[5 rows x 24 columns]"
      ]
     },
     "execution_count": 2,
     "metadata": {},
     "output_type": "execute_result"
    }
   ],
   "source": [
    "df =  pd.read_csv('csv/eruptions_2020.csv')\n",
    "df.head()"
   ]
  },
  {
   "cell_type": "code",
   "execution_count": 3,
   "id": "provincial-lawrence",
   "metadata": {},
   "outputs": [
    {
     "data": {
      "text/plain": [
       "11172"
      ]
     },
     "execution_count": 3,
     "metadata": {},
     "output_type": "execute_result"
    }
   ],
   "source": [
    "df.shape[0]"
   ]
  },
  {
   "cell_type": "code",
   "execution_count": 4,
   "id": "conceptual-fossil",
   "metadata": {},
   "outputs": [
    {
     "data": {
      "text/plain": [
       "Index(['Volcano Number', 'Volcano Name', 'Eruption Number',\n",
       "       'Eruption Category', 'Area of Activity', 'VEI', 'VEI Modifier',\n",
       "       'Start Year Modifier', 'Start Year', 'Start Year Uncertainty',\n",
       "       'Start Month', 'Start Day Modifier', 'Start Day',\n",
       "       'Start Day Uncertainty', 'Evidence Method (dating)',\n",
       "       'End Year Modifier', 'End Year', 'End Year Uncertainty', 'End Month',\n",
       "       'End Day Modifier', 'End Day', 'End Day Uncertainty', 'Latitude',\n",
       "       'Longitude'],\n",
       "      dtype='object')"
      ]
     },
     "execution_count": 4,
     "metadata": {},
     "output_type": "execute_result"
    }
   ],
   "source": [
    "df.columns"
   ]
  },
  {
   "cell_type": "code",
   "execution_count": 5,
   "id": "lined-pipeline",
   "metadata": {},
   "outputs": [
    {
     "data": {
      "text/plain": [
       "Volcano Number                  0\n",
       "Volcano Name                    0\n",
       "Eruption Number                 0\n",
       "Eruption Category               0\n",
       "Area of Activity             6479\n",
       "VEI                          2905\n",
       "VEI Modifier                 9861\n",
       "Start Year Modifier          9560\n",
       "Start Year                      1\n",
       "Start Year Uncertainty       9084\n",
       "Start Month                   189\n",
       "Start Day Modifier          10757\n",
       "Start Day                     192\n",
       "Start Day Uncertainty       10319\n",
       "Evidence Method (dating)     1280\n",
       "End Year Modifier           11070\n",
       "End Year                     6842\n",
       "End Year Uncertainty        11166\n",
       "End Month                    6845\n",
       "End Day Modifier            10454\n",
       "End Day                      6848\n",
       "End Day Uncertainty         10479\n",
       "Latitude                        0\n",
       "Longitude                       0\n",
       "dtype: int64"
      ]
     },
     "execution_count": 5,
     "metadata": {},
     "output_type": "execute_result"
    }
   ],
   "source": [
    "df.isnull().sum()"
   ]
  },
  {
   "cell_type": "code",
   "execution_count": 6,
   "id": "turkish-active",
   "metadata": {},
   "outputs": [
    {
     "name": "stdout",
     "output_type": "stream",
     "text": [
      "min=-10450.0, max=2020.0\n"
     ]
    }
   ],
   "source": [
    "# Let's explore eruptions year distribution over time\n",
    "\n",
    "min_last_eruption_year= df['Start Year'].min()\n",
    "max_last_eruption_year= df['Start Year'].max()\n",
    "print(f'min={min_last_eruption_year}, max={max_last_eruption_year}')"
   ]
  },
  {
   "cell_type": "code",
   "execution_count": 7,
   "id": "rubber-bikini",
   "metadata": {},
   "outputs": [
    {
     "data": {
      "text/plain": [
       "(-10450.001, -4571.0]     818\n",
       "(-4571.0, 0.0]           1555\n",
       "(0.0, 672.0]              414\n",
       "(672.0, 1344.0]           620\n",
       "(1344.0, 2020.0]         7764\n",
       "Name: Start Year, dtype: int64"
      ]
     },
     "execution_count": 7,
     "metadata": {},
     "output_type": "execute_result"
    }
   ],
   "source": [
    "eruption_frequency_bins = "
   ]
  },
  {
   "cell_type": "code",
   "execution_count": 21,
   "id": "neural-coating",
   "metadata": {},
   "outputs": [
    {
     "data": {
      "image/png": "[encoded data removed]",
      "text/plain": [
       "<Figure size 432x288 with 1 Axes>"
      ]
     },
     "metadata": {},
     "output_type": "display_data"
    }
   ],
   "source": [
    "plt.hist(df['Start Year'], bins=[-10450,-4571, 0, 672, 1344, 2020 ], color='darkred')\n",
    "plt.title( \"Last Known Eruptions\")\n",
    "plt.xticks( rotation='horizontal')\n",
    "plt.show()"
   ]
  },
  {
   "cell_type": "code",
   "execution_count": 9,
   "id": "hired-winter",
   "metadata": {},
   "outputs": [],
   "source": [
    "df.to_csv('eruptions_cleaned.csv', index=False, na_rep='NULL')"
   ]
  }
 ],
 "metadata": {
  "kernelspec": {
   "display_name": "Python 3",
   "language": "python",
   "name": "python3"
  },
  "language_info": {
   "codemirror_mode": {
    "name": "ipython",
    "version": 3
   },
   "file_extension": ".py",
   "mimetype": "text/x-python",
   "name": "python",
   "nbconvert_exporter": "python",
   "pygments_lexer": "ipython3",
   "version": "3.8.3"
  }
 },
 "nbformat": 4,
 "nbformat_minor": 5
}
